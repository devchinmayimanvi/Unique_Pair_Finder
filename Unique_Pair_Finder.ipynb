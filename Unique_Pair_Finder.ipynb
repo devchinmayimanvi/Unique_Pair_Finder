{
 "cells": [
  {
   "cell_type": "markdown",
   "id": "4a10ee41-cada-4371-8014-3d2289ce70fe",
   "metadata": {},
   "source": [
    "# Unique Pair Finder\n",
    "\n",
    "This repository contains a Python script that identifies unique pairs of numbers from a given list that sum up to a specified number. The script includes two main functions: `get_unique_list` and `convert_str_to_int`.\n"
   ]
  },
  {
   "cell_type": "markdown",
   "id": "4e6dc85d-0797-4357-ac0d-2ad5de9e6aa4",
   "metadata": {},
   "source": [
    "## Functions\n",
    "\n",
    "### `get_unique_list(int_list, num2)`\n",
    "\n",
    "This function takes a list of integers and a target sum (`num2`). It returns a set of unique pairs from the list that add up to the target sum.\n",
    "\n",
    "**Parameters:**\n",
    "- `int_list` (list of int): A list of integers.\n",
    "- `num2` (int): The target sum.\n",
    "\n",
    "**Returns:**\n",
    "- `unique_list` (set of tuple): A set of unique pairs (as tuples) that sum up to `num2`.\n",
    "\n",
    "**Example:**\n"
   ]
  },
  {
   "cell_type": "code",
   "execution_count": 5,
   "id": "450695a4-df0b-431e-a784-95dce4d51175",
   "metadata": {},
   "outputs": [
    {
     "data": {
      "text/plain": [
       "{(1, 5), (2, 4)}"
      ]
     },
     "execution_count": 5,
     "metadata": {},
     "output_type": "execute_result"
    }
   ],
   "source": [
    "def get_unique_list(int_list, num2):\n",
    "    unique_list = set()\n",
    "    for current_index in range(len(int_list) - 1):\n",
    "        num_1 = int_list[current_index]\n",
    "        num_2 = num2 - num_1\n",
    "        remaining_list = int_list[current_index + 1:]\n",
    "        \n",
    "        if num_2 in remaining_list:\n",
    "            pair = (num_1, num_2)\n",
    "            pair = tuple(sorted(pair))\n",
    "            unique_list.add(pair)\n",
    "    return unique_list\n",
    "\n",
    "# Example usage:\n",
    "int_list = [1, 2, 3, 4, 5]\n",
    "num2 = 6\n",
    "get_unique_list(int_list, num2)  # Output: {(1, 5), (2, 4)}\n"
   ]
  },
  {
   "cell_type": "markdown",
   "id": "4f7c52b0-c2e9-40c6-bd9e-c4ef0f757df1",
   "metadata": {},
   "source": [
    "### `convert_str_to_int(num_list)`\n",
    "\n",
    "This function takes a list of strings and converts it into a list of integers.\n",
    "\n",
    "**Parameters:**\n",
    "- `num_list` (list of str): A list of strings representing numbers.\n",
    "\n",
    "**Returns:**\n",
    "- `new_list` (list of int): A list of integers.\n",
    "\n",
    "**Example:**\n"
   ]
  },
  {
   "cell_type": "code",
   "execution_count": 6,
   "id": "f2227b19-f841-4d36-8907-7ddf387b6e16",
   "metadata": {},
   "outputs": [
    {
     "data": {
      "text/plain": [
       "[1, 2, 3]"
      ]
     },
     "execution_count": 6,
     "metadata": {},
     "output_type": "execute_result"
    }
   ],
   "source": [
    "def convert_str_to_int(num_list):\n",
    "    new_list = []\n",
    "    for i in num_list:\n",
    "        new_list.append(int(i))\n",
    "    return new_list\n",
    "\n",
    "# Example usage:\n",
    "num_list = ['1', '2', '3']\n",
    "convert_str_to_int(num_list)  # Output: [1, 2, 3]\n"
   ]
  },
  {
   "cell_type": "markdown",
   "id": "1e96737d-816a-4605-937b-6921d345417c",
   "metadata": {},
   "source": [
    "## Usage\n",
    "\n",
    "1. Provide a comma-separated list of numbers as input.\n",
    "2. Provide the target sum as input.\n",
    "3. The script will output all unique pairs of numbers that add up to the target sum.\n",
    "\n",
    "**Example:**\n"
   ]
  },
  {
   "cell_type": "code",
   "execution_count": 8,
   "id": "ad1a3a80-73ee-4b9e-b162-df52e38079af",
   "metadata": {},
   "outputs": [
    {
     "name": "stdin",
     "output_type": "stream",
     "text": [
      " 5,3,4,9,7,5\n",
      " 12\n"
     ]
    },
    {
     "name": "stdout",
     "output_type": "stream",
     "text": [
      "(3, 9)\n",
      "(5, 7)\n"
     ]
    }
   ],
   "source": [
    "# Input\n",
    "num_list = input().split(\",\")\n",
    "num2 = int(input())\n",
    "int_list = convert_str_to_int(num_list)\n",
    "result = get_unique_list(int_list, num2)\n",
    "\n",
    "# Output\n",
    "for i in result:\n",
    "    print(i)\n"
   ]
  },
  {
   "cell_type": "markdown",
   "id": "5eca7b9f-7d76-4ca4-9a2c-88f3b5170146",
   "metadata": {},
   "source": [
    "## Running the Script\n",
    "\n",
    "To run the script, execute the following commands:\n",
    "\n",
    "```bash\n",
    "python script.py\n"
   ]
  }
 ],
 "metadata": {
  "kernelspec": {
   "display_name": "Python 3 (ipykernel)",
   "language": "python",
   "name": "python3"
  },
  "language_info": {
   "codemirror_mode": {
    "name": "ipython",
    "version": 3
   },
   "file_extension": ".py",
   "mimetype": "text/x-python",
   "name": "python",
   "nbconvert_exporter": "python",
   "pygments_lexer": "ipython3",
   "version": "3.11.5"
  }
 },
 "nbformat": 4,
 "nbformat_minor": 5
}
